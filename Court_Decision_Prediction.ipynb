{
 "cells": [
  {
   "cell_type": "code",
   "execution_count": 10,
   "id": "c95bcd6d",
   "metadata": {},
   "outputs": [],
   "source": [
    "#Importing Libraries\n",
    "import numpy as np\n",
    "import pandas as pd\n",
    "import matplotlib.pyplot as plt\n",
    "import seaborn as sns\n",
    "\n",
    "#Loading DataFrame\n",
    "df = pd.read_csv(r\"/Users/abhi/Rahul Machine Learning/justice.csv\")\n",
    "df.head(2) \n",
    "#df.shape\n",
    "#df.info()\n",
    "\n",
    "df2=df.dropna()\n",
    "df2=df.dropna(axis=0)\n",
    "\n",
    "# Reset index after drop\n",
    "df2=df.dropna().reset_index(drop=True)\n",
    "\n",
    "df3 = df2.copy()\n",
    "df3['first_party_winner'] = df3['first_party_winner'].astype(int)\n",
    "\n",
    "df3 = pd.DataFrame(np.random.randn(100, 2))\n",
    "\n",
    "train, test = train_test_split(df3, test_size=0.2)\n",
    "\n",
    "msk = np.random.rand(len(df3)) < 0.8\n",
    "train = df3[msk]\n",
    "test = df3[~msk]"
   ]
  },
  {
   "cell_type": "code",
   "execution_count": 11,
   "id": "a83c48d2",
   "metadata": {},
   "outputs": [
    {
     "ename": "SyntaxError",
     "evalue": "invalid syntax (4093870132.py, line 2)",
     "output_type": "error",
     "traceback": [
      "\u001b[0;36m  Input \u001b[0;32mIn [11]\u001b[0;36m\u001b[0m\n\u001b[0;31m    X_train , X_test , y_train , y_test = train_test_ split(X, y , test_size=0.2 , random_state=2020)\u001b[0m\n\u001b[0m                                                      ^\u001b[0m\n\u001b[0;31mSyntaxError\u001b[0m\u001b[0;31m:\u001b[0m invalid syntax\n"
     ]
    }
   ],
   "source": [
    "\n",
    "from sklearn.model_selection import train_test_split\n",
    "X_train , X_test , y_train , y_test = train_test_ split(X, y , test_size=0.2 , random_state=2020)\n",
    "\n",
    "from sklearn.ensemble import RandomForestClassifier\n",
    "classsifier = RandomForestClassifier(n_estimators = 100 , criterion = 'gini')\n",
    "classsifier.fit(X_train , y_train)\n",
    "classsifier.score(X_test , y_test)"
   ]
  },
  {
   "cell_type": "code",
   "execution_count": null,
   "id": "1a68e568",
   "metadata": {},
   "outputs": [],
   "source": []
  }
 ],
 "metadata": {
  "kernelspec": {
   "display_name": "Python 3 (ipykernel)",
   "language": "python",
   "name": "python3"
  },
  "language_info": {
   "codemirror_mode": {
    "name": "ipython",
    "version": 3
   },
   "file_extension": ".py",
   "mimetype": "text/x-python",
   "name": "python",
   "nbconvert_exporter": "python",
   "pygments_lexer": "ipython3",
   "version": "3.9.12"
  }
 },
 "nbformat": 4,
 "nbformat_minor": 5
}
